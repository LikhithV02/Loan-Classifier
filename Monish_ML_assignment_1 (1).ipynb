{
 "cells": [
  {
   "cell_type": "markdown",
   "metadata": {
    "id": "FZKkqMErYJ2i"
   },
   "source": [
    "Luxury loan portfolio in NYC\n",
    "\n",
    "https://www.kaggle.com/datasets/anandaramg/luxury-loan-portfolio?resource=download"
   ]
  },
  {
   "cell_type": "code",
   "execution_count": 1,
   "metadata": {
    "id": "aOLuWug7YESZ",
    "vscode": {
     "languageId": "python"
    }
   },
   "outputs": [],
   "source": [
    "import pandas as pd\n",
    "import numpy as np"
   ]
  },
  {
   "cell_type": "code",
   "execution_count": 2,
   "metadata": {
    "id": "mmYtfqR_YxjE",
    "vscode": {
     "languageId": "python"
    }
   },
   "outputs": [],
   "source": [
    "# Load the dataset\n",
    "raw_data =pd.read_csv('LuxuryLoanPortfolio.csv')"
   ]
  },
  {
   "cell_type": "code",
   "execution_count": 4,
   "metadata": {
    "colab": {
     "base_uri": "https://localhost:8080/",
     "height": 594
    },
    "id": "C70nD12JYx_W",
    "outputId": "714855f3-b8c4-4e8d-9e6c-f0bd6e206364",
    "vscode": {
     "languageId": "python"
    }
   },
   "outputs": [
    {
     "data": {
      "text/html": [
       "\n",
       "  <div id=\"df-c37290c5-f96c-4c4d-9ae8-c9bfaddbeea4\">\n",
       "    <div class=\"colab-df-container\">\n",
       "      <div>\n",
       "<style scoped>\n",
       "    .dataframe tbody tr th:only-of-type {\n",
       "        vertical-align: middle;\n",
       "    }\n",
       "\n",
       "    .dataframe tbody tr th {\n",
       "        vertical-align: top;\n",
       "    }\n",
       "\n",
       "    .dataframe thead th {\n",
       "        text-align: right;\n",
       "    }\n",
       "</style>\n",
       "<table border=\"1\" class=\"dataframe\">\n",
       "  <thead>\n",
       "    <tr style=\"text-align: right;\">\n",
       "      <th></th>\n",
       "      <th>loan_id</th>\n",
       "      <th>funded_amount</th>\n",
       "      <th>funded_date</th>\n",
       "      <th>duration years</th>\n",
       "      <th>duration months</th>\n",
       "      <th>10 yr treasury index date funded</th>\n",
       "      <th>interest rate percent</th>\n",
       "      <th>interest rate</th>\n",
       "      <th>payments</th>\n",
       "      <th>total past payments</th>\n",
       "      <th>...</th>\n",
       "      <th>BUILDING CLASS AT PRESENT</th>\n",
       "      <th>ADDRESS 1</th>\n",
       "      <th>ADDRESS 2</th>\n",
       "      <th>ZIP CODE</th>\n",
       "      <th>CITY</th>\n",
       "      <th>STATE</th>\n",
       "      <th>TOTAL UNITS</th>\n",
       "      <th>LAND SQUARE FEET</th>\n",
       "      <th>GROSS SQUARE FEET</th>\n",
       "      <th>TAX CLASS AT TIME OF SALE</th>\n",
       "    </tr>\n",
       "  </thead>\n",
       "  <tbody>\n",
       "    <tr>\n",
       "      <th>0</th>\n",
       "      <td>LL0000076</td>\n",
       "      <td>790000.0</td>\n",
       "      <td>2012-04-27</td>\n",
       "      <td>20</td>\n",
       "      <td>240</td>\n",
       "      <td>1.96</td>\n",
       "      <td>3.359</td>\n",
       "      <td>0.03359</td>\n",
       "      <td>4524.65</td>\n",
       "      <td>92</td>\n",
       "      <td>...</td>\n",
       "      <td>R1</td>\n",
       "      <td>171 SOUTH 9TH   STREET</td>\n",
       "      <td>9</td>\n",
       "      <td>10001</td>\n",
       "      <td>New York City</td>\n",
       "      <td>NY</td>\n",
       "      <td>1</td>\n",
       "      <td>0</td>\n",
       "      <td>0</td>\n",
       "      <td>2</td>\n",
       "    </tr>\n",
       "    <tr>\n",
       "      <th>1</th>\n",
       "      <td>LL0000151</td>\n",
       "      <td>1720000.0</td>\n",
       "      <td>2014-10-14</td>\n",
       "      <td>15</td>\n",
       "      <td>180</td>\n",
       "      <td>2.21</td>\n",
       "      <td>3.508</td>\n",
       "      <td>0.03508</td>\n",
       "      <td>12302.74</td>\n",
       "      <td>62</td>\n",
       "      <td>...</td>\n",
       "      <td>R3</td>\n",
       "      <td>1242 E 80TH ST</td>\n",
       "      <td>19</td>\n",
       "      <td>10104</td>\n",
       "      <td>New York City</td>\n",
       "      <td>NY</td>\n",
       "      <td>1</td>\n",
       "      <td>0</td>\n",
       "      <td>0</td>\n",
       "      <td>1</td>\n",
       "    </tr>\n",
       "    <tr>\n",
       "      <th>2</th>\n",
       "      <td>LL0000161</td>\n",
       "      <td>3720000.0</td>\n",
       "      <td>2014-06-07</td>\n",
       "      <td>15</td>\n",
       "      <td>180</td>\n",
       "      <td>2.60</td>\n",
       "      <td>3.896</td>\n",
       "      <td>0.03896</td>\n",
       "      <td>27322.92</td>\n",
       "      <td>66</td>\n",
       "      <td>...</td>\n",
       "      <td>R3</td>\n",
       "      <td>1884 53RD STREET</td>\n",
       "      <td>2</td>\n",
       "      <td>10029</td>\n",
       "      <td>New York City</td>\n",
       "      <td>NY</td>\n",
       "      <td>1</td>\n",
       "      <td>0</td>\n",
       "      <td>0</td>\n",
       "      <td>1</td>\n",
       "    </tr>\n",
       "    <tr>\n",
       "      <th>3</th>\n",
       "      <td>LL0000175</td>\n",
       "      <td>1079000.0</td>\n",
       "      <td>2012-02-23</td>\n",
       "      <td>20</td>\n",
       "      <td>240</td>\n",
       "      <td>1.99</td>\n",
       "      <td>3.389</td>\n",
       "      <td>0.03389</td>\n",
       "      <td>6196.40</td>\n",
       "      <td>94</td>\n",
       "      <td>...</td>\n",
       "      <td>R1</td>\n",
       "      <td>79 EAGLE STREET</td>\n",
       "      <td>6</td>\n",
       "      <td>10010</td>\n",
       "      <td>New York City</td>\n",
       "      <td>NY</td>\n",
       "      <td>1</td>\n",
       "      <td>0</td>\n",
       "      <td>0</td>\n",
       "      <td>2</td>\n",
       "    </tr>\n",
       "    <tr>\n",
       "      <th>4</th>\n",
       "      <td>LL0000178</td>\n",
       "      <td>2028000.0</td>\n",
       "      <td>2016-04-01</td>\n",
       "      <td>20</td>\n",
       "      <td>240</td>\n",
       "      <td>1.79</td>\n",
       "      <td>3.188</td>\n",
       "      <td>0.03188</td>\n",
       "      <td>11439.05</td>\n",
       "      <td>45</td>\n",
       "      <td>...</td>\n",
       "      <td>RW</td>\n",
       "      <td>34 NORTH 7TH   STREET</td>\n",
       "      <td>5</td>\n",
       "      <td>10172</td>\n",
       "      <td>New York City</td>\n",
       "      <td>NY</td>\n",
       "      <td>1</td>\n",
       "      <td>0</td>\n",
       "      <td>0</td>\n",
       "      <td>4</td>\n",
       "    </tr>\n",
       "  </tbody>\n",
       "</table>\n",
       "<p>5 rows × 32 columns</p>\n",
       "</div>\n",
       "      <button class=\"colab-df-convert\" onclick=\"convertToInteractive('df-c37290c5-f96c-4c4d-9ae8-c9bfaddbeea4')\"\n",
       "              title=\"Convert this dataframe to an interactive table.\"\n",
       "              style=\"display:none;\">\n",
       "        \n",
       "  <svg xmlns=\"http://www.w3.org/2000/svg\" height=\"24px\"viewBox=\"0 0 24 24\"\n",
       "       width=\"24px\">\n",
       "    <path d=\"M0 0h24v24H0V0z\" fill=\"none\"/>\n",
       "    <path d=\"M18.56 5.44l.94 2.06.94-2.06 2.06-.94-2.06-.94-.94-2.06-.94 2.06-2.06.94zm-11 1L8.5 8.5l.94-2.06 2.06-.94-2.06-.94L8.5 2.5l-.94 2.06-2.06.94zm10 10l.94 2.06.94-2.06 2.06-.94-2.06-.94-.94-2.06-.94 2.06-2.06.94z\"/><path d=\"M17.41 7.96l-1.37-1.37c-.4-.4-.92-.59-1.43-.59-.52 0-1.04.2-1.43.59L10.3 9.45l-7.72 7.72c-.78.78-.78 2.05 0 2.83L4 21.41c.39.39.9.59 1.41.59.51 0 1.02-.2 1.41-.59l7.78-7.78 2.81-2.81c.8-.78.8-2.07 0-2.86zM5.41 20L4 18.59l7.72-7.72 1.47 1.35L5.41 20z\"/>\n",
       "  </svg>\n",
       "      </button>\n",
       "      \n",
       "  <style>\n",
       "    .colab-df-container {\n",
       "      display:flex;\n",
       "      flex-wrap:wrap;\n",
       "      gap: 12px;\n",
       "    }\n",
       "\n",
       "    .colab-df-convert {\n",
       "      background-color: #E8F0FE;\n",
       "      border: none;\n",
       "      border-radius: 50%;\n",
       "      cursor: pointer;\n",
       "      display: none;\n",
       "      fill: #1967D2;\n",
       "      height: 32px;\n",
       "      padding: 0 0 0 0;\n",
       "      width: 32px;\n",
       "    }\n",
       "\n",
       "    .colab-df-convert:hover {\n",
       "      background-color: #E2EBFA;\n",
       "      box-shadow: 0px 1px 2px rgba(60, 64, 67, 0.3), 0px 1px 3px 1px rgba(60, 64, 67, 0.15);\n",
       "      fill: #174EA6;\n",
       "    }\n",
       "\n",
       "    [theme=dark] .colab-df-convert {\n",
       "      background-color: #3B4455;\n",
       "      fill: #D2E3FC;\n",
       "    }\n",
       "\n",
       "    [theme=dark] .colab-df-convert:hover {\n",
       "      background-color: #434B5C;\n",
       "      box-shadow: 0px 1px 3px 1px rgba(0, 0, 0, 0.15);\n",
       "      filter: drop-shadow(0px 1px 2px rgba(0, 0, 0, 0.3));\n",
       "      fill: #FFFFFF;\n",
       "    }\n",
       "  </style>\n",
       "\n",
       "      <script>\n",
       "        const buttonEl =\n",
       "          document.querySelector('#df-c37290c5-f96c-4c4d-9ae8-c9bfaddbeea4 button.colab-df-convert');\n",
       "        buttonEl.style.display =\n",
       "          google.colab.kernel.accessAllowed ? 'block' : 'none';\n",
       "\n",
       "        async function convertToInteractive(key) {\n",
       "          const element = document.querySelector('#df-c37290c5-f96c-4c4d-9ae8-c9bfaddbeea4');\n",
       "          const dataTable =\n",
       "            await google.colab.kernel.invokeFunction('convertToInteractive',\n",
       "                                                     [key], {});\n",
       "          if (!dataTable) return;\n",
       "\n",
       "          const docLinkHtml = 'Like what you see? Visit the ' +\n",
       "            '<a target=\"_blank\" href=https://colab.research.google.com/notebooks/data_table.ipynb>data table notebook</a>'\n",
       "            + ' to learn more about interactive tables.';\n",
       "          element.innerHTML = '';\n",
       "          dataTable['output_type'] = 'display_data';\n",
       "          await google.colab.output.renderOutput(dataTable, element);\n",
       "          const docLink = document.createElement('div');\n",
       "          docLink.innerHTML = docLinkHtml;\n",
       "          element.appendChild(docLink);\n",
       "        }\n",
       "      </script>\n",
       "    </div>\n",
       "  </div>\n",
       "  "
      ],
      "text/plain": [
       "     loan_id  funded_amount funded_date  duration years  duration months  \\\n",
       "0  LL0000076       790000.0  2012-04-27              20              240   \n",
       "1  LL0000151      1720000.0  2014-10-14              15              180   \n",
       "2  LL0000161      3720000.0  2014-06-07              15              180   \n",
       "3  LL0000175      1079000.0  2012-02-23              20              240   \n",
       "4  LL0000178      2028000.0  2016-04-01              20              240   \n",
       "\n",
       "   10 yr treasury index date funded  interest rate percent  interest rate  \\\n",
       "0                              1.96                  3.359        0.03359   \n",
       "1                              2.21                  3.508        0.03508   \n",
       "2                              2.60                  3.896        0.03896   \n",
       "3                              1.99                  3.389        0.03389   \n",
       "4                              1.79                  3.188        0.03188   \n",
       "\n",
       "   payments  total past payments  ...  BUILDING CLASS AT PRESENT  \\\n",
       "0   4524.65                   92  ...                         R1   \n",
       "1  12302.74                   62  ...                         R3   \n",
       "2  27322.92                   66  ...                         R3   \n",
       "3   6196.40                   94  ...                         R1   \n",
       "4  11439.05                   45  ...                         RW   \n",
       "\n",
       "                ADDRESS 1 ADDRESS 2 ZIP CODE           CITY STATE TOTAL UNITS  \\\n",
       "0  171 SOUTH 9TH   STREET         9    10001  New York City    NY           1   \n",
       "1          1242 E 80TH ST        19    10104  New York City    NY           1   \n",
       "2        1884 53RD STREET         2    10029  New York City    NY           1   \n",
       "3         79 EAGLE STREET         6    10010  New York City    NY           1   \n",
       "4   34 NORTH 7TH   STREET         5    10172  New York City    NY           1   \n",
       "\n",
       "  LAND SQUARE FEET GROSS SQUARE FEET  TAX CLASS AT TIME OF SALE  \n",
       "0                0                 0                          2  \n",
       "1                0                 0                          1  \n",
       "2                0                 0                          1  \n",
       "3                0                 0                          2  \n",
       "4                0                 0                          4  \n",
       "\n",
       "[5 rows x 32 columns]"
      ]
     },
     "execution_count": 4,
     "metadata": {},
     "output_type": "execute_result"
    }
   ],
   "source": [
    "raw_data.head()"
   ]
  },
  {
   "cell_type": "code",
   "execution_count": null,
   "metadata": {
    "colab": {
     "base_uri": "https://localhost:8080/"
    },
    "id": "bLBNaF1qYyBo",
    "outputId": "06479e88-3c2f-4196-99f4-5286a3fbab95",
    "vscode": {
     "languageId": "python"
    }
   },
   "outputs": [
    {
     "data": {
      "text/plain": [
       "(1678, 32)"
      ]
     },
     "execution_count": 18,
     "metadata": {},
     "output_type": "execute_result"
    }
   ],
   "source": [
    "# the number of rows and columns in the dataset\n",
    "raw_data.shape"
   ]
  },
  {
   "cell_type": "code",
   "execution_count": null,
   "metadata": {
    "colab": {
     "base_uri": "https://localhost:8080/"
    },
    "id": "s2TFRQaSYyEO",
    "outputId": "b18e7d48-0dcf-4c2f-cf73-8985fe4b2481",
    "vscode": {
     "languageId": "python"
    }
   },
   "outputs": [
    {
     "data": {
      "text/plain": [
       "loan_id                             1678\n",
       "funded_amount                        507\n",
       "funded_date                         1256\n",
       "duration years                         4\n",
       "duration months                        4\n",
       "10 yr treasury index date funded     338\n",
       "interest rate percent                661\n",
       "interest rate                        662\n",
       "payments                            1661\n",
       "total past payments                   97\n",
       "loan balance                        1675\n",
       "property value                      1635\n",
       "purpose                                5\n",
       "firstname                            952\n",
       "middlename                           777\n",
       "lastname                            1034\n",
       "social                              1678\n",
       "phone                               1678\n",
       "title                                870\n",
       "employment length                     18\n",
       "BUILDING CLASS CATEGORY               24\n",
       "TAX CLASS AT PRESENT                   8\n",
       "BUILDING CLASS AT PRESENT             46\n",
       "ADDRESS 1                           1309\n",
       "ADDRESS 2                             56\n",
       "ZIP CODE                             109\n",
       "CITY                                   1\n",
       "STATE                                  1\n",
       "TOTAL UNITS                           27\n",
       "LAND SQUARE FEET                     202\n",
       "GROSS SQUARE FEET                    294\n",
       "TAX CLASS AT TIME OF SALE              3\n",
       "dtype: int64"
      ]
     },
     "execution_count": 5,
     "metadata": {},
     "output_type": "execute_result"
    }
   ],
   "source": [
    "# view the unique elements in wach column\n",
    "raw_data.nunique()"
   ]
  },
  {
   "cell_type": "code",
   "execution_count": 3,
   "metadata": {
    "id": "6u2bSYb1YyQ6",
    "vscode": {
     "languageId": "python"
    }
   },
   "outputs": [],
   "source": [
    "# in the above list we can see that there are many features which has more number of unique values \n",
    "# for example features 'social' and 'phone' all the rows has unique values in it \n",
    "# these feratures will not be usefull for the machine to learn a concept \n",
    "# so we will delete these following feature\n",
    "# [firstname, middlename, lastname]\n",
    "# loan_id, phone, social \n",
    "# duration years and duration months are the same so we can get rid of one of them\n",
    "# interest rate\n",
    "# As there are just high-status titles we can drop that too\n",
    "# Addresses too as we will leave the zip code\n",
    "\n",
    "\n",
    "raw_data = raw_data.drop(['firstname', 'middlename', 'lastname', 'loan_id', 'phone', 'social', 'duration months', 'interest rate', 'title', 'ADDRESS 1', 'ADDRESS 2','CITY','STATE'], axis = 1)\n"
   ]
  },
  {
   "cell_type": "code",
   "execution_count": 6,
   "metadata": {
    "colab": {
     "base_uri": "https://localhost:8080/",
     "height": 409
    },
    "id": "7kq1X3HPYyS4",
    "outputId": "466be48b-4962-43f4-bb04-7a47c0b50fa7",
    "vscode": {
     "languageId": "python"
    }
   },
   "outputs": [
    {
     "data": {
      "text/html": [
       "\n",
       "  <div id=\"df-ad41c4ad-5cac-4011-a2f7-ea7155705afc\">\n",
       "    <div class=\"colab-df-container\">\n",
       "      <div>\n",
       "<style scoped>\n",
       "    .dataframe tbody tr th:only-of-type {\n",
       "        vertical-align: middle;\n",
       "    }\n",
       "\n",
       "    .dataframe tbody tr th {\n",
       "        vertical-align: top;\n",
       "    }\n",
       "\n",
       "    .dataframe thead th {\n",
       "        text-align: right;\n",
       "    }\n",
       "</style>\n",
       "<table border=\"1\" class=\"dataframe\">\n",
       "  <thead>\n",
       "    <tr style=\"text-align: right;\">\n",
       "      <th></th>\n",
       "      <th>funded_amount</th>\n",
       "      <th>funded_date</th>\n",
       "      <th>duration years</th>\n",
       "      <th>10 yr treasury index date funded</th>\n",
       "      <th>interest rate percent</th>\n",
       "      <th>payments</th>\n",
       "      <th>total past payments</th>\n",
       "      <th>loan balance</th>\n",
       "      <th>property value</th>\n",
       "      <th>purpose</th>\n",
       "      <th>employment length</th>\n",
       "      <th>BUILDING CLASS CATEGORY</th>\n",
       "      <th>TAX CLASS AT PRESENT</th>\n",
       "      <th>BUILDING CLASS AT PRESENT</th>\n",
       "      <th>ZIP CODE</th>\n",
       "      <th>TOTAL UNITS</th>\n",
       "      <th>LAND SQUARE FEET</th>\n",
       "      <th>GROSS SQUARE FEET</th>\n",
       "      <th>TAX CLASS AT TIME OF SALE</th>\n",
       "    </tr>\n",
       "  </thead>\n",
       "  <tbody>\n",
       "    <tr>\n",
       "      <th>0</th>\n",
       "      <td>790000.0</td>\n",
       "      <td>2012-04-27</td>\n",
       "      <td>20</td>\n",
       "      <td>1.96</td>\n",
       "      <td>3.359</td>\n",
       "      <td>4524.65</td>\n",
       "      <td>92</td>\n",
       "      <td>373732.18</td>\n",
       "      <td>930250.0</td>\n",
       "      <td>boat</td>\n",
       "      <td>6</td>\n",
       "      <td>15 CONDOS - 2-10 UNIT RESIDENTIAL</td>\n",
       "      <td>2C</td>\n",
       "      <td>R1</td>\n",
       "      <td>10001</td>\n",
       "      <td>1</td>\n",
       "      <td>0</td>\n",
       "      <td>0</td>\n",
       "      <td>2</td>\n",
       "    </tr>\n",
       "    <tr>\n",
       "      <th>1</th>\n",
       "      <td>1720000.0</td>\n",
       "      <td>2014-10-14</td>\n",
       "      <td>15</td>\n",
       "      <td>2.21</td>\n",
       "      <td>3.508</td>\n",
       "      <td>12302.74</td>\n",
       "      <td>62</td>\n",
       "      <td>957230.24</td>\n",
       "      <td>1995250.0</td>\n",
       "      <td>boat</td>\n",
       "      <td>10</td>\n",
       "      <td>04 TAX CLASS 1 CONDOS</td>\n",
       "      <td>1A</td>\n",
       "      <td>R3</td>\n",
       "      <td>10104</td>\n",
       "      <td>1</td>\n",
       "      <td>0</td>\n",
       "      <td>0</td>\n",
       "      <td>1</td>\n",
       "    </tr>\n",
       "    <tr>\n",
       "      <th>2</th>\n",
       "      <td>3720000.0</td>\n",
       "      <td>2014-06-07</td>\n",
       "      <td>15</td>\n",
       "      <td>2.60</td>\n",
       "      <td>3.896</td>\n",
       "      <td>27322.92</td>\n",
       "      <td>66</td>\n",
       "      <td>1916687.35</td>\n",
       "      <td>3881700.0</td>\n",
       "      <td>boat</td>\n",
       "      <td>1</td>\n",
       "      <td>04 TAX CLASS 1 CONDOS</td>\n",
       "      <td>1A</td>\n",
       "      <td>R3</td>\n",
       "      <td>10029</td>\n",
       "      <td>1</td>\n",
       "      <td>0</td>\n",
       "      <td>0</td>\n",
       "      <td>1</td>\n",
       "    </tr>\n",
       "    <tr>\n",
       "      <th>3</th>\n",
       "      <td>1079000.0</td>\n",
       "      <td>2012-02-23</td>\n",
       "      <td>20</td>\n",
       "      <td>1.99</td>\n",
       "      <td>3.389</td>\n",
       "      <td>6196.40</td>\n",
       "      <td>94</td>\n",
       "      <td>496538.75</td>\n",
       "      <td>1402450.0</td>\n",
       "      <td>boat</td>\n",
       "      <td>17</td>\n",
       "      <td>15 CONDOS - 2-10 UNIT RESIDENTIAL</td>\n",
       "      <td>2C</td>\n",
       "      <td>R1</td>\n",
       "      <td>10010</td>\n",
       "      <td>1</td>\n",
       "      <td>0</td>\n",
       "      <td>0</td>\n",
       "      <td>2</td>\n",
       "    </tr>\n",
       "    <tr>\n",
       "      <th>4</th>\n",
       "      <td>2028000.0</td>\n",
       "      <td>2016-04-01</td>\n",
       "      <td>20</td>\n",
       "      <td>1.79</td>\n",
       "      <td>3.188</td>\n",
       "      <td>11439.05</td>\n",
       "      <td>45</td>\n",
       "      <td>1513242.57</td>\n",
       "      <td>2216500.0</td>\n",
       "      <td>boat</td>\n",
       "      <td>5</td>\n",
       "      <td>49 CONDO WAREHOUSES/FACTORY/INDUS</td>\n",
       "      <td>4</td>\n",
       "      <td>RW</td>\n",
       "      <td>10172</td>\n",
       "      <td>1</td>\n",
       "      <td>0</td>\n",
       "      <td>0</td>\n",
       "      <td>4</td>\n",
       "    </tr>\n",
       "  </tbody>\n",
       "</table>\n",
       "</div>\n",
       "      <button class=\"colab-df-convert\" onclick=\"convertToInteractive('df-ad41c4ad-5cac-4011-a2f7-ea7155705afc')\"\n",
       "              title=\"Convert this dataframe to an interactive table.\"\n",
       "              style=\"display:none;\">\n",
       "        \n",
       "  <svg xmlns=\"http://www.w3.org/2000/svg\" height=\"24px\"viewBox=\"0 0 24 24\"\n",
       "       width=\"24px\">\n",
       "    <path d=\"M0 0h24v24H0V0z\" fill=\"none\"/>\n",
       "    <path d=\"M18.56 5.44l.94 2.06.94-2.06 2.06-.94-2.06-.94-.94-2.06-.94 2.06-2.06.94zm-11 1L8.5 8.5l.94-2.06 2.06-.94-2.06-.94L8.5 2.5l-.94 2.06-2.06.94zm10 10l.94 2.06.94-2.06 2.06-.94-2.06-.94-.94-2.06-.94 2.06-2.06.94z\"/><path d=\"M17.41 7.96l-1.37-1.37c-.4-.4-.92-.59-1.43-.59-.52 0-1.04.2-1.43.59L10.3 9.45l-7.72 7.72c-.78.78-.78 2.05 0 2.83L4 21.41c.39.39.9.59 1.41.59.51 0 1.02-.2 1.41-.59l7.78-7.78 2.81-2.81c.8-.78.8-2.07 0-2.86zM5.41 20L4 18.59l7.72-7.72 1.47 1.35L5.41 20z\"/>\n",
       "  </svg>\n",
       "      </button>\n",
       "      \n",
       "  <style>\n",
       "    .colab-df-container {\n",
       "      display:flex;\n",
       "      flex-wrap:wrap;\n",
       "      gap: 12px;\n",
       "    }\n",
       "\n",
       "    .colab-df-convert {\n",
       "      background-color: #E8F0FE;\n",
       "      border: none;\n",
       "      border-radius: 50%;\n",
       "      cursor: pointer;\n",
       "      display: none;\n",
       "      fill: #1967D2;\n",
       "      height: 32px;\n",
       "      padding: 0 0 0 0;\n",
       "      width: 32px;\n",
       "    }\n",
       "\n",
       "    .colab-df-convert:hover {\n",
       "      background-color: #E2EBFA;\n",
       "      box-shadow: 0px 1px 2px rgba(60, 64, 67, 0.3), 0px 1px 3px 1px rgba(60, 64, 67, 0.15);\n",
       "      fill: #174EA6;\n",
       "    }\n",
       "\n",
       "    [theme=dark] .colab-df-convert {\n",
       "      background-color: #3B4455;\n",
       "      fill: #D2E3FC;\n",
       "    }\n",
       "\n",
       "    [theme=dark] .colab-df-convert:hover {\n",
       "      background-color: #434B5C;\n",
       "      box-shadow: 0px 1px 3px 1px rgba(0, 0, 0, 0.15);\n",
       "      filter: drop-shadow(0px 1px 2px rgba(0, 0, 0, 0.3));\n",
       "      fill: #FFFFFF;\n",
       "    }\n",
       "  </style>\n",
       "\n",
       "      <script>\n",
       "        const buttonEl =\n",
       "          document.querySelector('#df-ad41c4ad-5cac-4011-a2f7-ea7155705afc button.colab-df-convert');\n",
       "        buttonEl.style.display =\n",
       "          google.colab.kernel.accessAllowed ? 'block' : 'none';\n",
       "\n",
       "        async function convertToInteractive(key) {\n",
       "          const element = document.querySelector('#df-ad41c4ad-5cac-4011-a2f7-ea7155705afc');\n",
       "          const dataTable =\n",
       "            await google.colab.kernel.invokeFunction('convertToInteractive',\n",
       "                                                     [key], {});\n",
       "          if (!dataTable) return;\n",
       "\n",
       "          const docLinkHtml = 'Like what you see? Visit the ' +\n",
       "            '<a target=\"_blank\" href=https://colab.research.google.com/notebooks/data_table.ipynb>data table notebook</a>'\n",
       "            + ' to learn more about interactive tables.';\n",
       "          element.innerHTML = '';\n",
       "          dataTable['output_type'] = 'display_data';\n",
       "          await google.colab.output.renderOutput(dataTable, element);\n",
       "          const docLink = document.createElement('div');\n",
       "          docLink.innerHTML = docLinkHtml;\n",
       "          element.appendChild(docLink);\n",
       "        }\n",
       "      </script>\n",
       "    </div>\n",
       "  </div>\n",
       "  "
      ],
      "text/plain": [
       "   funded_amount funded_date  duration years  \\\n",
       "0       790000.0  2012-04-27              20   \n",
       "1      1720000.0  2014-10-14              15   \n",
       "2      3720000.0  2014-06-07              15   \n",
       "3      1079000.0  2012-02-23              20   \n",
       "4      2028000.0  2016-04-01              20   \n",
       "\n",
       "   10 yr treasury index date funded  interest rate percent  payments  \\\n",
       "0                              1.96                  3.359   4524.65   \n",
       "1                              2.21                  3.508  12302.74   \n",
       "2                              2.60                  3.896  27322.92   \n",
       "3                              1.99                  3.389   6196.40   \n",
       "4                              1.79                  3.188  11439.05   \n",
       "\n",
       "   total past payments  loan balance  property value purpose  \\\n",
       "0                   92     373732.18        930250.0    boat   \n",
       "1                   62     957230.24       1995250.0    boat   \n",
       "2                   66    1916687.35       3881700.0    boat   \n",
       "3                   94     496538.75       1402450.0    boat   \n",
       "4                   45    1513242.57       2216500.0    boat   \n",
       "\n",
       "   employment length                      BUILDING CLASS CATEGORY  \\\n",
       "0                  6  15 CONDOS - 2-10 UNIT RESIDENTIAL             \n",
       "1                 10  04 TAX CLASS 1 CONDOS                         \n",
       "2                  1  04 TAX CLASS 1 CONDOS                         \n",
       "3                 17  15 CONDOS - 2-10 UNIT RESIDENTIAL             \n",
       "4                  5  49 CONDO WAREHOUSES/FACTORY/INDUS             \n",
       "\n",
       "  TAX CLASS AT PRESENT BUILDING CLASS AT PRESENT  ZIP CODE  TOTAL UNITS  \\\n",
       "0                   2C                        R1     10001            1   \n",
       "1                   1A                        R3     10104            1   \n",
       "2                   1A                        R3     10029            1   \n",
       "3                   2C                        R1     10010            1   \n",
       "4                    4                        RW     10172            1   \n",
       "\n",
       "  LAND SQUARE FEET GROSS SQUARE FEET  TAX CLASS AT TIME OF SALE  \n",
       "0                0                 0                          2  \n",
       "1                0                 0                          1  \n",
       "2                0                 0                          1  \n",
       "3                0                 0                          2  \n",
       "4                0                 0                          4  "
      ]
     },
     "execution_count": 6,
     "metadata": {},
     "output_type": "execute_result"
    }
   ],
   "source": [
    "raw_data.head()"
   ]
  },
  {
   "cell_type": "code",
   "execution_count": 7,
   "metadata": {
    "colab": {
     "base_uri": "https://localhost:8080/"
    },
    "id": "qGxE6kC7YyVj",
    "outputId": "791c7d19-73aa-442f-8770-72d1073cd23c",
    "vscode": {
     "languageId": "python"
    }
   },
   "outputs": [
    {
     "name": "stdout",
     "output_type": "stream",
     "text": [
      "<class 'pandas.core.frame.DataFrame'>\n",
      "RangeIndex: 1678 entries, 0 to 1677\n",
      "Data columns (total 19 columns):\n",
      " #   Column                            Non-Null Count  Dtype  \n",
      "---  ------                            --------------  -----  \n",
      " 0   funded_amount                     1678 non-null   float64\n",
      " 1   funded_date                       1678 non-null   object \n",
      " 2   duration years                    1678 non-null   int64  \n",
      " 3   10 yr treasury index date funded  1678 non-null   float64\n",
      " 4   interest rate percent             1678 non-null   float64\n",
      " 5   payments                          1678 non-null   float64\n",
      " 6   total past payments               1678 non-null   int64  \n",
      " 7   loan balance                      1678 non-null   float64\n",
      " 8   property value                    1678 non-null   float64\n",
      " 9   purpose                           1678 non-null   object \n",
      " 10  employment length                 1678 non-null   int64  \n",
      " 11  BUILDING CLASS CATEGORY           1678 non-null   object \n",
      " 12  TAX CLASS AT PRESENT              1678 non-null   object \n",
      " 13  BUILDING CLASS AT PRESENT         1678 non-null   object \n",
      " 14  ZIP CODE                          1678 non-null   int64  \n",
      " 15  TOTAL UNITS                       1678 non-null   int64  \n",
      " 16  LAND SQUARE FEET                  1678 non-null   object \n",
      " 17  GROSS SQUARE FEET                 1678 non-null   object \n",
      " 18  TAX CLASS AT TIME OF SALE         1678 non-null   int64  \n",
      "dtypes: float64(6), int64(6), object(7)\n",
      "memory usage: 249.2+ KB\n"
     ]
    }
   ],
   "source": [
    "raw_data.info()"
   ]
  },
  {
   "cell_type": "code",
   "execution_count": 4,
   "metadata": {
    "id": "kcN-pTeHulcn",
    "vscode": {
     "languageId": "python"
    }
   },
   "outputs": [],
   "source": [
    "#As there are only 5 purposes we should transform them in numerical values(1 - boat, 2 - investment property, 3 - commercial property, 4 - home, 5 - plane)\n",
    "purpose_map = {'boat': 1,\n",
    "               'investment property': 2,\n",
    "               'commerical property': 3,\n",
    "               'home': 4,\n",
    "               'plane': 5}\n",
    "\n",
    "raw_data['purpose'] = raw_data['purpose'].map(purpose_map)"
   ]
  },
  {
   "cell_type": "code",
   "execution_count": 5,
   "metadata": {
    "id": "Et7ghDgf16MB",
    "vscode": {
     "languageId": "python"
    }
   },
   "outputs": [],
   "source": [
    "\n",
    "\n",
    "#We should transform the tax class at present column in categorical values too\n",
    "tax_class_map = {'1': 1,\n",
    "                 '2': 2,\n",
    "                 '1A': 3,\n",
    "                 '1C': 4,\n",
    "                 '2A': 5,\n",
    "                 '2B': 6,\n",
    "                 '2C': 7,\n",
    "                 '4': 8}\n",
    "raw_data['TAX CLASS AT PRESENT'] = raw_data['TAX CLASS AT PRESENT'].replace(tax_class_map)"
   ]
  },
  {
   "cell_type": "code",
   "execution_count": null,
   "metadata": {
    "colab": {
     "base_uri": "https://localhost:8080/",
     "height": 52
    },
    "id": "Imd6yBMI15-x",
    "outputId": "316aff37-d306-465f-c30d-46ba25b97a82",
    "vscode": {
     "languageId": "python"
    }
   },
   "outputs": [
    {
     "data": {
      "application/vnd.google.colaboratory.intrinsic+json": {
       "type": "string"
      },
      "text/plain": [
       "\"#Transform tax class at time of sale to have the same values as tax class at present\\nraw_data['TAX CLASS AT TIME OF SALE'] = raw_data['TAX CLASS AT TIME OF SALE'].replace(4, 8)\""
      ]
     },
     "execution_count": 11,
     "metadata": {},
     "output_type": "execute_result"
    }
   ],
   "source": [
    "'''#Transform tax class at time of sale to have the same values as tax class at present\n",
    "raw_data['TAX CLASS AT TIME OF SALE'] = raw_data['TAX CLASS AT TIME OF SALE'].replace(4, 8)'''"
   ]
  },
  {
   "cell_type": "code",
   "execution_count": 6,
   "metadata": {
    "id": "iw0LMbra15nJ",
    "vscode": {
     "languageId": "python"
    }
   },
   "outputs": [],
   "source": [
    "'''#We will use the get_dummies method to classify the building classes\n",
    "building_class_dummies = pd.get_dummies(raw_data['BUILDING CLASS AT PRESENT'])\n",
    "raw_data = pd.concat([raw_data, building_class_dummies], axis=1)\n",
    "raw_data = raw_data.drop(['BUILDING CLASS AT PRESENT'], axis=1)\n",
    "\n",
    "building_class_category_dummies = pd.get_dummies(raw_data['BUILDING CLASS CATEGORY'])\n",
    "raw_data = pd.concat([raw_data, building_class_category_dummies], axis=1)\n",
    "raw_data = raw_data.drop(['BUILDING CLASS CATEGORY'], axis=1)'''\n",
    "\n",
    "from sklearn.preprocessing import LabelEncoder\n",
    "\n",
    "Le = LabelEncoder()\n",
    "raw_data['BUILDING CLASS AT PRESENT'] = Le.fit_transform(raw_data['BUILDING CLASS AT PRESENT'])\n",
    "raw_data['BUILDING CLASS CATEGORY'] = Le.fit_transform(raw_data['BUILDING CLASS CATEGORY'])\n"
   ]
  },
  {
   "cell_type": "code",
   "execution_count": 60,
   "metadata": {
    "colab": {
     "base_uri": "https://localhost:8080/"
    },
    "id": "CdF-7pVX15xU",
    "outputId": "6f3fb539-dd40-458d-ed1b-182cadc5b24b",
    "vscode": {
     "languageId": "python"
    }
   },
   "outputs": [
    {
     "name": "stdout",
     "output_type": "stream",
     "text": [
      "<class 'pandas.core.frame.DataFrame'>\n",
      "RangeIndex: 1678 entries, 0 to 1677\n",
      "Data columns (total 9 columns):\n",
      " #   Column                     Non-Null Count  Dtype  \n",
      "---  ------                     --------------  -----  \n",
      " 0   funded_amount              1678 non-null   float64\n",
      " 1   payments                   1678 non-null   float64\n",
      " 2   loan balance               1678 non-null   float64\n",
      " 3   property value             1678 non-null   float64\n",
      " 4   BUILDING CLASS CATEGORY    1678 non-null   int64  \n",
      " 5   TAX CLASS AT PRESENT       1678 non-null   int64  \n",
      " 6   BUILDING CLASS AT PRESENT  1678 non-null   int64  \n",
      " 7   LAND SQUARE FEET           1678 non-null   int64  \n",
      " 8   TAX CLASS AT TIME OF SALE  1678 non-null   int64  \n",
      "dtypes: float64(4), int64(5)\n",
      "memory usage: 118.1 KB\n"
     ]
    }
   ],
   "source": [
    "raw_data.info()"
   ]
  },
  {
   "cell_type": "code",
   "execution_count": 7,
   "metadata": {
    "id": "EoDhwy1O4897",
    "vscode": {
     "languageId": "python"
    }
   },
   "outputs": [],
   "source": [
    "#We can see that in these column is a '-'value so my guess is that we can replace this with '0'\n",
    "raw_data['LAND SQUARE FEET'] = raw_data['LAND SQUARE FEET'].replace(' -  ', '0')\n",
    "raw_data['GROSS SQUARE FEET'] = raw_data['GROSS SQUARE FEET'].replace(' -  ', '0')"
   ]
  },
  {
   "cell_type": "code",
   "execution_count": 8,
   "metadata": {
    "id": "vONp61br48yv",
    "vscode": {
     "languageId": "python"
    }
   },
   "outputs": [],
   "source": [
    "#Transforming these columns in numeric data type\n",
    "raw_data['LAND SQUARE FEET'] = pd.to_numeric(raw_data['LAND SQUARE FEET'])\n",
    "raw_data['GROSS SQUARE FEET'] = pd.to_numeric(raw_data['GROSS SQUARE FEET'])"
   ]
  },
  {
   "cell_type": "code",
   "execution_count": 9,
   "metadata": {
    "id": "1iXGKzKH48iv",
    "vscode": {
     "languageId": "python"
    }
   },
   "outputs": [],
   "source": [
    "#A little feature engineering on the funded_date as it is quite important\n",
    "raw_data['funded_date'] = pd.to_datetime(raw_data['funded_date'], format='%Y-%m-%d')\n",
    "raw_data['funded_year'] = raw_data['funded_date'].dt.year\n",
    "raw_data['funded_month'] = raw_data['funded_date'].dt.month\n",
    "raw_data = raw_data.drop(['funded_date'], axis=1)"
   ]
  },
  {
   "cell_type": "code",
   "execution_count": null,
   "metadata": {
    "colab": {
     "base_uri": "https://localhost:8080/"
    },
    "id": "8YzQwmdL15Zx",
    "outputId": "3e6376a0-0cba-4354-e1f9-e52007769826",
    "vscode": {
     "languageId": "python"
    }
   },
   "outputs": [
    {
     "name": "stdout",
     "output_type": "stream",
     "text": [
      "<class 'pandas.core.frame.DataFrame'>\n",
      "RangeIndex: 1678 entries, 0 to 1677\n",
      "Data columns (total 20 columns):\n",
      " #   Column                            Non-Null Count  Dtype  \n",
      "---  ------                            --------------  -----  \n",
      " 0   funded_amount                     1678 non-null   float64\n",
      " 1   duration years                    1678 non-null   int64  \n",
      " 2   10 yr treasury index date funded  1678 non-null   float64\n",
      " 3   interest rate percent             1678 non-null   float64\n",
      " 4   payments                          1678 non-null   float64\n",
      " 5   total past payments               1678 non-null   int64  \n",
      " 6   loan balance                      1678 non-null   float64\n",
      " 7   property value                    1678 non-null   float64\n",
      " 8   purpose                           1678 non-null   int64  \n",
      " 9   employment length                 1678 non-null   int64  \n",
      " 10  BUILDING CLASS CATEGORY           1678 non-null   int64  \n",
      " 11  TAX CLASS AT PRESENT              1678 non-null   int64  \n",
      " 12  BUILDING CLASS AT PRESENT         1678 non-null   int64  \n",
      " 13  ZIP CODE                          1678 non-null   int64  \n",
      " 14  TOTAL UNITS                       1678 non-null   int64  \n",
      " 15  LAND SQUARE FEET                  1678 non-null   int64  \n",
      " 16  GROSS SQUARE FEET                 1678 non-null   int64  \n",
      " 17  TAX CLASS AT TIME OF SALE         1678 non-null   int64  \n",
      " 18  funded_year                       1678 non-null   int64  \n",
      " 19  funded_month                      1678 non-null   int64  \n",
      "dtypes: float64(6), int64(14)\n",
      "memory usage: 262.3 KB\n"
     ]
    }
   ],
   "source": [
    "raw_data.info()"
   ]
  },
  {
   "cell_type": "code",
   "execution_count": 10,
   "metadata": {
    "id": "Bus3oQvTcC_w",
    "vscode": {
     "languageId": "python"
    }
   },
   "outputs": [],
   "source": [
    "raw_data = raw_data.drop([\"duration years\",\"10 yr treasury index date funded\",\"interest rate percent\",\"total past payments\",\"purpose\",\"employment length\",\"ZIP CODE\",\"TOTAL UNITS\",\"GROSS SQUARE FEET\",\"funded_year\",\"funded_month\"],axis=1)"
   ]
  },
  {
   "cell_type": "code",
   "execution_count": 11,
   "metadata": {
    "colab": {
     "base_uri": "https://localhost:8080/"
    },
    "id": "xmFu34eQbLWj",
    "outputId": "0a36ce6a-c859-4bbb-8e58-91e6f4b87ad3",
    "vscode": {
     "languageId": "python"
    }
   },
   "outputs": [
    {
     "data": {
      "text/plain": [
       "funded_amount                0.101161\n",
       "payments                     0.096184\n",
       "loan balance                 0.094952\n",
       "property value               0.102668\n",
       "BUILDING CLASS CATEGORY      0.816963\n",
       "TAX CLASS AT PRESENT         0.542572\n",
       "BUILDING CLASS AT PRESENT    0.180779\n",
       "LAND SQUARE FEET             0.084873\n",
       "TAX CLASS AT TIME OF SALE    1.000000\n",
       "Name: TAX CLASS AT TIME OF SALE, dtype: float64"
      ]
     },
     "execution_count": 11,
     "metadata": {},
     "output_type": "execute_result"
    }
   ],
   "source": [
    "raw_data.corr()[\"TAX CLASS AT TIME OF SALE\"]"
   ]
  },
  {
   "cell_type": "code",
   "execution_count": null,
   "metadata": {
    "colab": {
     "base_uri": "https://localhost:8080/",
     "height": 267
    },
    "id": "59jsnO9eviij",
    "outputId": "5e0afbe1-6f53-42e1-9bd8-9c0731bc1f5e",
    "vscode": {
     "languageId": "python"
    }
   },
   "outputs": [
    {
     "data": {
      "text/html": [
       "\n",
       "  <div id=\"df-04319c7a-c183-4fb6-9107-41c824613482\">\n",
       "    <div class=\"colab-df-container\">\n",
       "      <div>\n",
       "<style scoped>\n",
       "    .dataframe tbody tr th:only-of-type {\n",
       "        vertical-align: middle;\n",
       "    }\n",
       "\n",
       "    .dataframe tbody tr th {\n",
       "        vertical-align: top;\n",
       "    }\n",
       "\n",
       "    .dataframe thead th {\n",
       "        text-align: right;\n",
       "    }\n",
       "</style>\n",
       "<table border=\"1\" class=\"dataframe\">\n",
       "  <thead>\n",
       "    <tr style=\"text-align: right;\">\n",
       "      <th></th>\n",
       "      <th>funded_amount</th>\n",
       "      <th>payments</th>\n",
       "      <th>loan balance</th>\n",
       "      <th>property value</th>\n",
       "      <th>BUILDING CLASS CATEGORY</th>\n",
       "      <th>TAX CLASS AT PRESENT</th>\n",
       "      <th>BUILDING CLASS AT PRESENT</th>\n",
       "      <th>LAND SQUARE FEET</th>\n",
       "      <th>TAX CLASS AT TIME OF SALE</th>\n",
       "    </tr>\n",
       "  </thead>\n",
       "  <tbody>\n",
       "    <tr>\n",
       "      <th>0</th>\n",
       "      <td>790000.0</td>\n",
       "      <td>4524.65</td>\n",
       "      <td>373732.18</td>\n",
       "      <td>930250.0</td>\n",
       "      <td>11</td>\n",
       "      <td>2</td>\n",
       "      <td>23</td>\n",
       "      <td>0</td>\n",
       "      <td>2</td>\n",
       "    </tr>\n",
       "    <tr>\n",
       "      <th>1</th>\n",
       "      <td>1720000.0</td>\n",
       "      <td>12302.74</td>\n",
       "      <td>957230.24</td>\n",
       "      <td>1995250.0</td>\n",
       "      <td>3</td>\n",
       "      <td>1</td>\n",
       "      <td>25</td>\n",
       "      <td>0</td>\n",
       "      <td>1</td>\n",
       "    </tr>\n",
       "    <tr>\n",
       "      <th>2</th>\n",
       "      <td>3720000.0</td>\n",
       "      <td>27322.92</td>\n",
       "      <td>1916687.35</td>\n",
       "      <td>3881700.0</td>\n",
       "      <td>3</td>\n",
       "      <td>1</td>\n",
       "      <td>25</td>\n",
       "      <td>0</td>\n",
       "      <td>1</td>\n",
       "    </tr>\n",
       "    <tr>\n",
       "      <th>3</th>\n",
       "      <td>1079000.0</td>\n",
       "      <td>6196.40</td>\n",
       "      <td>496538.75</td>\n",
       "      <td>1402450.0</td>\n",
       "      <td>11</td>\n",
       "      <td>2</td>\n",
       "      <td>23</td>\n",
       "      <td>0</td>\n",
       "      <td>2</td>\n",
       "    </tr>\n",
       "    <tr>\n",
       "      <th>4</th>\n",
       "      <td>2028000.0</td>\n",
       "      <td>11439.05</td>\n",
       "      <td>1513242.57</td>\n",
       "      <td>2216500.0</td>\n",
       "      <td>23</td>\n",
       "      <td>4</td>\n",
       "      <td>38</td>\n",
       "      <td>0</td>\n",
       "      <td>4</td>\n",
       "    </tr>\n",
       "  </tbody>\n",
       "</table>\n",
       "</div>\n",
       "      <button class=\"colab-df-convert\" onclick=\"convertToInteractive('df-04319c7a-c183-4fb6-9107-41c824613482')\"\n",
       "              title=\"Convert this dataframe to an interactive table.\"\n",
       "              style=\"display:none;\">\n",
       "        \n",
       "  <svg xmlns=\"http://www.w3.org/2000/svg\" height=\"24px\"viewBox=\"0 0 24 24\"\n",
       "       width=\"24px\">\n",
       "    <path d=\"M0 0h24v24H0V0z\" fill=\"none\"/>\n",
       "    <path d=\"M18.56 5.44l.94 2.06.94-2.06 2.06-.94-2.06-.94-.94-2.06-.94 2.06-2.06.94zm-11 1L8.5 8.5l.94-2.06 2.06-.94-2.06-.94L8.5 2.5l-.94 2.06-2.06.94zm10 10l.94 2.06.94-2.06 2.06-.94-2.06-.94-.94-2.06-.94 2.06-2.06.94z\"/><path d=\"M17.41 7.96l-1.37-1.37c-.4-.4-.92-.59-1.43-.59-.52 0-1.04.2-1.43.59L10.3 9.45l-7.72 7.72c-.78.78-.78 2.05 0 2.83L4 21.41c.39.39.9.59 1.41.59.51 0 1.02-.2 1.41-.59l7.78-7.78 2.81-2.81c.8-.78.8-2.07 0-2.86zM5.41 20L4 18.59l7.72-7.72 1.47 1.35L5.41 20z\"/>\n",
       "  </svg>\n",
       "      </button>\n",
       "      \n",
       "  <style>\n",
       "    .colab-df-container {\n",
       "      display:flex;\n",
       "      flex-wrap:wrap;\n",
       "      gap: 12px;\n",
       "    }\n",
       "\n",
       "    .colab-df-convert {\n",
       "      background-color: #E8F0FE;\n",
       "      border: none;\n",
       "      border-radius: 50%;\n",
       "      cursor: pointer;\n",
       "      display: none;\n",
       "      fill: #1967D2;\n",
       "      height: 32px;\n",
       "      padding: 0 0 0 0;\n",
       "      width: 32px;\n",
       "    }\n",
       "\n",
       "    .colab-df-convert:hover {\n",
       "      background-color: #E2EBFA;\n",
       "      box-shadow: 0px 1px 2px rgba(60, 64, 67, 0.3), 0px 1px 3px 1px rgba(60, 64, 67, 0.15);\n",
       "      fill: #174EA6;\n",
       "    }\n",
       "\n",
       "    [theme=dark] .colab-df-convert {\n",
       "      background-color: #3B4455;\n",
       "      fill: #D2E3FC;\n",
       "    }\n",
       "\n",
       "    [theme=dark] .colab-df-convert:hover {\n",
       "      background-color: #434B5C;\n",
       "      box-shadow: 0px 1px 3px 1px rgba(0, 0, 0, 0.15);\n",
       "      filter: drop-shadow(0px 1px 2px rgba(0, 0, 0, 0.3));\n",
       "      fill: #FFFFFF;\n",
       "    }\n",
       "  </style>\n",
       "\n",
       "      <script>\n",
       "        const buttonEl =\n",
       "          document.querySelector('#df-04319c7a-c183-4fb6-9107-41c824613482 button.colab-df-convert');\n",
       "        buttonEl.style.display =\n",
       "          google.colab.kernel.accessAllowed ? 'block' : 'none';\n",
       "\n",
       "        async function convertToInteractive(key) {\n",
       "          const element = document.querySelector('#df-04319c7a-c183-4fb6-9107-41c824613482');\n",
       "          const dataTable =\n",
       "            await google.colab.kernel.invokeFunction('convertToInteractive',\n",
       "                                                     [key], {});\n",
       "          if (!dataTable) return;\n",
       "\n",
       "          const docLinkHtml = 'Like what you see? Visit the ' +\n",
       "            '<a target=\"_blank\" href=https://colab.research.google.com/notebooks/data_table.ipynb>data table notebook</a>'\n",
       "            + ' to learn more about interactive tables.';\n",
       "          element.innerHTML = '';\n",
       "          dataTable['output_type'] = 'display_data';\n",
       "          await google.colab.output.renderOutput(dataTable, element);\n",
       "          const docLink = document.createElement('div');\n",
       "          docLink.innerHTML = docLinkHtml;\n",
       "          element.appendChild(docLink);\n",
       "        }\n",
       "      </script>\n",
       "    </div>\n",
       "  </div>\n",
       "  "
      ],
      "text/plain": [
       "   funded_amount  payments  loan balance  property value  \\\n",
       "0       790000.0   4524.65     373732.18        930250.0   \n",
       "1      1720000.0  12302.74     957230.24       1995250.0   \n",
       "2      3720000.0  27322.92    1916687.35       3881700.0   \n",
       "3      1079000.0   6196.40     496538.75       1402450.0   \n",
       "4      2028000.0  11439.05    1513242.57       2216500.0   \n",
       "\n",
       "   BUILDING CLASS CATEGORY  TAX CLASS AT PRESENT  BUILDING CLASS AT PRESENT  \\\n",
       "0                       11                     2                         23   \n",
       "1                        3                     1                         25   \n",
       "2                        3                     1                         25   \n",
       "3                       11                     2                         23   \n",
       "4                       23                     4                         38   \n",
       "\n",
       "   LAND SQUARE FEET  TAX CLASS AT TIME OF SALE  \n",
       "0                 0                          2  \n",
       "1                 0                          1  \n",
       "2                 0                          1  \n",
       "3                 0                          2  \n",
       "4                 0                          4  "
      ]
     },
     "execution_count": 14,
     "metadata": {},
     "output_type": "execute_result"
    }
   ],
   "source": [
    "raw_data.head()"
   ]
  },
  {
   "cell_type": "code",
   "execution_count": 12,
   "metadata": {
    "id": "bujkw4eC14Xa",
    "vscode": {
     "languageId": "python"
    }
   },
   "outputs": [],
   "source": [
    "#Defining the attributes and labels\n",
    "data_X = raw_data.drop(['TAX CLASS AT TIME OF SALE'], axis=1)\n",
    "data_Y = raw_data['TAX CLASS AT TIME OF SALE']"
   ]
  },
  {
   "cell_type": "code",
   "execution_count": 13,
   "metadata": {
    "id": "yO9vcn4f9Ef5",
    "vscode": {
     "languageId": "python"
    }
   },
   "outputs": [],
   "source": [
    "from sklearn.model_selection import train_test_split , RandomizedSearchCV\n",
    "from sklearn.ensemble import RandomForestRegressor\n",
    "from sklearn.preprocessing import StandardScaler\n",
    "from sklearn.ensemble import RandomForestClassifier\n",
    "from sklearn.metrics import accuracy_score, precision_score, recall_score, f1_score,precision_recall_fscore_support,mean_absolute_error,mean_squared_error\n",
    "from scipy.stats import randint as sp_randint\n",
    "from sklearn.model_selection import cross_val_score"
   ]
  },
  {
   "cell_type": "code",
   "execution_count": 14,
   "metadata": {
    "id": "fU-SsWXi9Duo",
    "vscode": {
     "languageId": "python"
    }
   },
   "outputs": [],
   "source": [
    "#Spliting the data into train and test\n",
    "X_train, X_test, Y_train, Y_test = train_test_split(data_X, data_Y, test_size=0.15 , random_state=42)"
   ]
  },
  {
   "cell_type": "code",
   "execution_count": 15,
   "metadata": {
    "colab": {
     "base_uri": "https://localhost:8080/"
    },
    "id": "UUWSQNN2YmkQ",
    "outputId": "98bb36f0-413a-41a8-f407-90e462f14889",
    "vscode": {
     "languageId": "python"
    }
   },
   "outputs": [
    {
     "name": "stdout",
     "output_type": "stream",
     "text": [
      "Best hyperparameters: {'criterion': 'entropy', 'max_depth': 30, 'max_features': 'log2', 'min_samples_leaf': 2, 'min_samples_split': 2, 'n_estimators': 67}\n",
      "Best accuracy: 1.0\n"
     ]
    }
   ],
   "source": [
    "# Create a random forest classifier object\n",
    "rf_classifier = RandomForestClassifier()\n",
    "\n",
    "# Define the hyperparameter grid\n",
    "param_dist = {'n_estimators': sp_randint(10, 200),\n",
    "              'max_depth': sp_randint(1, 50),\n",
    "              'max_features': ['sqrt', 'log2'],\n",
    "              'min_samples_split': sp_randint(2, 20),\n",
    "              'min_samples_leaf': sp_randint(1, 10),\n",
    "              'criterion': ['gini', 'entropy']}\n",
    "\n",
    "# Perform a randomized search with 5-fold cross-validation\n",
    "random_search = RandomizedSearchCV(rf_classifier, param_distributions=param_dist,\n",
    "                                   n_iter=100, cv=5, random_state=42, n_jobs=-1)\n",
    "\n",
    "# Fit the randomized search object to the data\n",
    "random_search.fit(X_train, Y_train)\n",
    "\n",
    "# Print the best hyperparameters and the corresponding accuracy\n",
    "print('Best hyperparameters:', random_search.best_params_)\n",
    "print('Best accuracy:', random_search.best_score_)"
   ]
  },
  {
   "attachments": {},
   "cell_type": "markdown",
   "metadata": {},
   "source": [
    "## Standard Scaling"
   ]
  },
  {
   "cell_type": "code",
   "execution_count": 16,
   "metadata": {
    "id": "J3uqs7xuv4tm",
    "vscode": {
     "languageId": "python"
    }
   },
   "outputs": [],
   "source": [
    "# Perform feature scaling and normalization\n",
    "sc = StandardScaler()\n",
    "X_train = sc.fit_transform(X_train)\n",
    "X_test = sc.transform(X_test)"
   ]
  },
  {
   "cell_type": "markdown",
   "metadata": {
    "id": "xe-k0iYugq70"
   },
   "source": [
    "## Logistic Regression\n"
   ]
  },
  {
   "cell_type": "code",
   "execution_count": 45,
   "metadata": {
    "id": "wIOu6icjgqaE",
    "vscode": {
     "languageId": "python"
    }
   },
   "outputs": [],
   "source": [
    "from sklearn.linear_model import LogisticRegression"
   ]
  },
  {
   "cell_type": "code",
   "execution_count": 46,
   "metadata": {
    "colab": {
     "base_uri": "https://localhost:8080/",
     "height": 74
    },
    "id": "yUyKQTsBgpdi",
    "outputId": "73de3b40-5f0e-4f7f-c4c6-fefbbc58b4f2",
    "vscode": {
     "languageId": "python"
    }
   },
   "outputs": [
    {
     "name": "stderr",
     "output_type": "stream",
     "text": [
      "/home/likhith/anaconda3/lib/python3.10/site-packages/sklearn/linear_model/_logistic.py:458: ConvergenceWarning: lbfgs failed to converge (status=1):\n",
      "STOP: TOTAL NO. of ITERATIONS REACHED LIMIT.\n",
      "\n",
      "Increase the number of iterations (max_iter) or scale the data as shown in:\n",
      "    https://scikit-learn.org/stable/modules/preprocessing.html\n",
      "Please also refer to the documentation for alternative solver options:\n",
      "    https://scikit-learn.org/stable/modules/linear_model.html#logistic-regression\n",
      "  n_iter_i = _check_optimize_result(\n"
     ]
    },
    {
     "data": {
      "text/html": [
       "<style>#sk-container-id-3 {color: black;background-color: white;}#sk-container-id-3 pre{padding: 0;}#sk-container-id-3 div.sk-toggleable {background-color: white;}#sk-container-id-3 label.sk-toggleable__label {cursor: pointer;display: block;width: 100%;margin-bottom: 0;padding: 0.3em;box-sizing: border-box;text-align: center;}#sk-container-id-3 label.sk-toggleable__label-arrow:before {content: \"▸\";float: left;margin-right: 0.25em;color: #696969;}#sk-container-id-3 label.sk-toggleable__label-arrow:hover:before {color: black;}#sk-container-id-3 div.sk-estimator:hover label.sk-toggleable__label-arrow:before {color: black;}#sk-container-id-3 div.sk-toggleable__content {max-height: 0;max-width: 0;overflow: hidden;text-align: left;background-color: #f0f8ff;}#sk-container-id-3 div.sk-toggleable__content pre {margin: 0.2em;color: black;border-radius: 0.25em;background-color: #f0f8ff;}#sk-container-id-3 input.sk-toggleable__control:checked~div.sk-toggleable__content {max-height: 200px;max-width: 100%;overflow: auto;}#sk-container-id-3 input.sk-toggleable__control:checked~label.sk-toggleable__label-arrow:before {content: \"▾\";}#sk-container-id-3 div.sk-estimator input.sk-toggleable__control:checked~label.sk-toggleable__label {background-color: #d4ebff;}#sk-container-id-3 div.sk-label input.sk-toggleable__control:checked~label.sk-toggleable__label {background-color: #d4ebff;}#sk-container-id-3 input.sk-hidden--visually {border: 0;clip: rect(1px 1px 1px 1px);clip: rect(1px, 1px, 1px, 1px);height: 1px;margin: -1px;overflow: hidden;padding: 0;position: absolute;width: 1px;}#sk-container-id-3 div.sk-estimator {font-family: monospace;background-color: #f0f8ff;border: 1px dotted black;border-radius: 0.25em;box-sizing: border-box;margin-bottom: 0.5em;}#sk-container-id-3 div.sk-estimator:hover {background-color: #d4ebff;}#sk-container-id-3 div.sk-parallel-item::after {content: \"\";width: 100%;border-bottom: 1px solid gray;flex-grow: 1;}#sk-container-id-3 div.sk-label:hover label.sk-toggleable__label {background-color: #d4ebff;}#sk-container-id-3 div.sk-serial::before {content: \"\";position: absolute;border-left: 1px solid gray;box-sizing: border-box;top: 0;bottom: 0;left: 50%;z-index: 0;}#sk-container-id-3 div.sk-serial {display: flex;flex-direction: column;align-items: center;background-color: white;padding-right: 0.2em;padding-left: 0.2em;position: relative;}#sk-container-id-3 div.sk-item {position: relative;z-index: 1;}#sk-container-id-3 div.sk-parallel {display: flex;align-items: stretch;justify-content: center;background-color: white;position: relative;}#sk-container-id-3 div.sk-item::before, #sk-container-id-3 div.sk-parallel-item::before {content: \"\";position: absolute;border-left: 1px solid gray;box-sizing: border-box;top: 0;bottom: 0;left: 50%;z-index: -1;}#sk-container-id-3 div.sk-parallel-item {display: flex;flex-direction: column;z-index: 1;position: relative;background-color: white;}#sk-container-id-3 div.sk-parallel-item:first-child::after {align-self: flex-end;width: 50%;}#sk-container-id-3 div.sk-parallel-item:last-child::after {align-self: flex-start;width: 50%;}#sk-container-id-3 div.sk-parallel-item:only-child::after {width: 0;}#sk-container-id-3 div.sk-dashed-wrapped {border: 1px dashed gray;margin: 0 0.4em 0.5em 0.4em;box-sizing: border-box;padding-bottom: 0.4em;background-color: white;}#sk-container-id-3 div.sk-label label {font-family: monospace;font-weight: bold;display: inline-block;line-height: 1.2em;}#sk-container-id-3 div.sk-label-container {text-align: center;}#sk-container-id-3 div.sk-container {/* jupyter's `normalize.less` sets `[hidden] { display: none; }` but bootstrap.min.css set `[hidden] { display: none !important; }` so we also need the `!important` here to be able to override the default hidden behavior on the sphinx rendered scikit-learn.org. See: https://github.com/scikit-learn/scikit-learn/issues/21755 */display: inline-block !important;position: relative;}#sk-container-id-3 div.sk-text-repr-fallback {display: none;}</style><div id=\"sk-container-id-3\" class=\"sk-top-container\"><div class=\"sk-text-repr-fallback\"><pre>LogisticRegression()</pre><b>In a Jupyter environment, please rerun this cell to show the HTML representation or trust the notebook. <br />On GitHub, the HTML representation is unable to render, please try loading this page with nbviewer.org.</b></div><div class=\"sk-container\" hidden><div class=\"sk-item\"><div class=\"sk-estimator sk-toggleable\"><input class=\"sk-toggleable__control sk-hidden--visually\" id=\"sk-estimator-id-3\" type=\"checkbox\" checked><label for=\"sk-estimator-id-3\" class=\"sk-toggleable__label sk-toggleable__label-arrow\">LogisticRegression</label><div class=\"sk-toggleable__content\"><pre>LogisticRegression()</pre></div></div></div></div></div>"
      ],
      "text/plain": [
       "LogisticRegression()"
      ]
     },
     "execution_count": 46,
     "metadata": {},
     "output_type": "execute_result"
    }
   ],
   "source": [
    "lg = LogisticRegression()\n",
    "lg.fit(X_train , Y_train)"
   ]
  },
  {
   "cell_type": "code",
   "execution_count": 47,
   "metadata": {
    "colab": {
     "base_uri": "https://localhost:8080/"
    },
    "id": "DlhBTCG_gpTi",
    "outputId": "829be20b-c852-4d3d-c00f-e1a174346c08",
    "vscode": {
     "languageId": "python"
    }
   },
   "outputs": [
    {
     "name": "stdout",
     "output_type": "stream",
     "text": [
      "Accuracy: 76.19%\n",
      "[0.         0.77732794 0.        ]\n",
      "[0.         0.97959184 0.        ]\n",
      "[0.         0.86681716 0.        ]\n"
     ]
    }
   ],
   "source": [
    "# Evaluate the model\n",
    "y_pred = lg.predict(X_test)\n",
    "accuracy = accuracy_score(Y_test , y_pred)\n",
    "precision,recall,f1, s=precision_recall_fscore_support(Y_test , y_pred)\n",
    "\n",
    "print(\"Accuracy: {:.2f}%\".format(accuracy * 100))\n",
    "print(precision)\n",
    "print(recall)\n",
    "print(f1)"
   ]
  },
  {
   "cell_type": "code",
   "execution_count": 20,
   "metadata": {
    "colab": {
     "base_uri": "https://localhost:8080/"
    },
    "id": "eH_UXF4r2O5x",
    "outputId": "86f2af49-81d2-4a77-c45c-833e63dbfe05",
    "vscode": {
     "languageId": "python"
    }
   },
   "outputs": [
    {
     "name": "stdout",
     "output_type": "stream",
     "text": [
      "[0.78431373 0.76470588 0.78       0.78       0.76      ]\n"
     ]
    },
    {
     "name": "stderr",
     "output_type": "stream",
     "text": [
      "/home/likhith/anaconda3/lib/python3.10/site-packages/sklearn/linear_model/_logistic.py:458: ConvergenceWarning: lbfgs failed to converge (status=1):\n",
      "STOP: TOTAL NO. of ITERATIONS REACHED LIMIT.\n",
      "\n",
      "Increase the number of iterations (max_iter) or scale the data as shown in:\n",
      "    https://scikit-learn.org/stable/modules/preprocessing.html\n",
      "Please also refer to the documentation for alternative solver options:\n",
      "    https://scikit-learn.org/stable/modules/linear_model.html#logistic-regression\n",
      "  n_iter_i = _check_optimize_result(\n",
      "/home/likhith/anaconda3/lib/python3.10/site-packages/sklearn/linear_model/_logistic.py:458: ConvergenceWarning: lbfgs failed to converge (status=1):\n",
      "STOP: TOTAL NO. of ITERATIONS REACHED LIMIT.\n",
      "\n",
      "Increase the number of iterations (max_iter) or scale the data as shown in:\n",
      "    https://scikit-learn.org/stable/modules/preprocessing.html\n",
      "Please also refer to the documentation for alternative solver options:\n",
      "    https://scikit-learn.org/stable/modules/linear_model.html#logistic-regression\n",
      "  n_iter_i = _check_optimize_result(\n",
      "/home/likhith/anaconda3/lib/python3.10/site-packages/sklearn/linear_model/_logistic.py:458: ConvergenceWarning: lbfgs failed to converge (status=1):\n",
      "STOP: TOTAL NO. of ITERATIONS REACHED LIMIT.\n",
      "\n",
      "Increase the number of iterations (max_iter) or scale the data as shown in:\n",
      "    https://scikit-learn.org/stable/modules/preprocessing.html\n",
      "Please also refer to the documentation for alternative solver options:\n",
      "    https://scikit-learn.org/stable/modules/linear_model.html#logistic-regression\n",
      "  n_iter_i = _check_optimize_result(\n",
      "/home/likhith/anaconda3/lib/python3.10/site-packages/sklearn/linear_model/_logistic.py:458: ConvergenceWarning: lbfgs failed to converge (status=1):\n",
      "STOP: TOTAL NO. of ITERATIONS REACHED LIMIT.\n",
      "\n",
      "Increase the number of iterations (max_iter) or scale the data as shown in:\n",
      "    https://scikit-learn.org/stable/modules/preprocessing.html\n",
      "Please also refer to the documentation for alternative solver options:\n",
      "    https://scikit-learn.org/stable/modules/linear_model.html#logistic-regression\n",
      "  n_iter_i = _check_optimize_result(\n",
      "/home/likhith/anaconda3/lib/python3.10/site-packages/sklearn/linear_model/_logistic.py:458: ConvergenceWarning: lbfgs failed to converge (status=1):\n",
      "STOP: TOTAL NO. of ITERATIONS REACHED LIMIT.\n",
      "\n",
      "Increase the number of iterations (max_iter) or scale the data as shown in:\n",
      "    https://scikit-learn.org/stable/modules/preprocessing.html\n",
      "Please also refer to the documentation for alternative solver options:\n",
      "    https://scikit-learn.org/stable/modules/linear_model.html#logistic-regression\n",
      "  n_iter_i = _check_optimize_result(\n"
     ]
    }
   ],
   "source": [
    "scores = cross_val_score(lg, X_test, Y_test, cv=5)\n",
    "print(scores)"
   ]
  },
  {
   "cell_type": "code",
   "execution_count": 21,
   "metadata": {
    "colab": {
     "base_uri": "https://localhost:8080/",
     "height": 74
    },
    "id": "mpGFqxj8gpFf",
    "outputId": "3b3dbda4-f50b-4907-fe17-04c35d7fdc0e",
    "vscode": {
     "languageId": "python"
    }
   },
   "outputs": [
    {
     "data": {
      "text/html": [
       "<style>#sk-container-id-2 {color: black;background-color: white;}#sk-container-id-2 pre{padding: 0;}#sk-container-id-2 div.sk-toggleable {background-color: white;}#sk-container-id-2 label.sk-toggleable__label {cursor: pointer;display: block;width: 100%;margin-bottom: 0;padding: 0.3em;box-sizing: border-box;text-align: center;}#sk-container-id-2 label.sk-toggleable__label-arrow:before {content: \"▸\";float: left;margin-right: 0.25em;color: #696969;}#sk-container-id-2 label.sk-toggleable__label-arrow:hover:before {color: black;}#sk-container-id-2 div.sk-estimator:hover label.sk-toggleable__label-arrow:before {color: black;}#sk-container-id-2 div.sk-toggleable__content {max-height: 0;max-width: 0;overflow: hidden;text-align: left;background-color: #f0f8ff;}#sk-container-id-2 div.sk-toggleable__content pre {margin: 0.2em;color: black;border-radius: 0.25em;background-color: #f0f8ff;}#sk-container-id-2 input.sk-toggleable__control:checked~div.sk-toggleable__content {max-height: 200px;max-width: 100%;overflow: auto;}#sk-container-id-2 input.sk-toggleable__control:checked~label.sk-toggleable__label-arrow:before {content: \"▾\";}#sk-container-id-2 div.sk-estimator input.sk-toggleable__control:checked~label.sk-toggleable__label {background-color: #d4ebff;}#sk-container-id-2 div.sk-label input.sk-toggleable__control:checked~label.sk-toggleable__label {background-color: #d4ebff;}#sk-container-id-2 input.sk-hidden--visually {border: 0;clip: rect(1px 1px 1px 1px);clip: rect(1px, 1px, 1px, 1px);height: 1px;margin: -1px;overflow: hidden;padding: 0;position: absolute;width: 1px;}#sk-container-id-2 div.sk-estimator {font-family: monospace;background-color: #f0f8ff;border: 1px dotted black;border-radius: 0.25em;box-sizing: border-box;margin-bottom: 0.5em;}#sk-container-id-2 div.sk-estimator:hover {background-color: #d4ebff;}#sk-container-id-2 div.sk-parallel-item::after {content: \"\";width: 100%;border-bottom: 1px solid gray;flex-grow: 1;}#sk-container-id-2 div.sk-label:hover label.sk-toggleable__label {background-color: #d4ebff;}#sk-container-id-2 div.sk-serial::before {content: \"\";position: absolute;border-left: 1px solid gray;box-sizing: border-box;top: 0;bottom: 0;left: 50%;z-index: 0;}#sk-container-id-2 div.sk-serial {display: flex;flex-direction: column;align-items: center;background-color: white;padding-right: 0.2em;padding-left: 0.2em;position: relative;}#sk-container-id-2 div.sk-item {position: relative;z-index: 1;}#sk-container-id-2 div.sk-parallel {display: flex;align-items: stretch;justify-content: center;background-color: white;position: relative;}#sk-container-id-2 div.sk-item::before, #sk-container-id-2 div.sk-parallel-item::before {content: \"\";position: absolute;border-left: 1px solid gray;box-sizing: border-box;top: 0;bottom: 0;left: 50%;z-index: -1;}#sk-container-id-2 div.sk-parallel-item {display: flex;flex-direction: column;z-index: 1;position: relative;background-color: white;}#sk-container-id-2 div.sk-parallel-item:first-child::after {align-self: flex-end;width: 50%;}#sk-container-id-2 div.sk-parallel-item:last-child::after {align-self: flex-start;width: 50%;}#sk-container-id-2 div.sk-parallel-item:only-child::after {width: 0;}#sk-container-id-2 div.sk-dashed-wrapped {border: 1px dashed gray;margin: 0 0.4em 0.5em 0.4em;box-sizing: border-box;padding-bottom: 0.4em;background-color: white;}#sk-container-id-2 div.sk-label label {font-family: monospace;font-weight: bold;display: inline-block;line-height: 1.2em;}#sk-container-id-2 div.sk-label-container {text-align: center;}#sk-container-id-2 div.sk-container {/* jupyter's `normalize.less` sets `[hidden] { display: none; }` but bootstrap.min.css set `[hidden] { display: none !important; }` so we also need the `!important` here to be able to override the default hidden behavior on the sphinx rendered scikit-learn.org. See: https://github.com/scikit-learn/scikit-learn/issues/21755 */display: inline-block !important;position: relative;}#sk-container-id-2 div.sk-text-repr-fallback {display: none;}</style><div id=\"sk-container-id-2\" class=\"sk-top-container\"><div class=\"sk-text-repr-fallback\"><pre>KNeighborsClassifier()</pre><b>In a Jupyter environment, please rerun this cell to show the HTML representation or trust the notebook. <br />On GitHub, the HTML representation is unable to render, please try loading this page with nbviewer.org.</b></div><div class=\"sk-container\" hidden><div class=\"sk-item\"><div class=\"sk-estimator sk-toggleable\"><input class=\"sk-toggleable__control sk-hidden--visually\" id=\"sk-estimator-id-2\" type=\"checkbox\" checked><label for=\"sk-estimator-id-2\" class=\"sk-toggleable__label sk-toggleable__label-arrow\">KNeighborsClassifier</label><div class=\"sk-toggleable__content\"><pre>KNeighborsClassifier()</pre></div></div></div></div></div>"
      ],
      "text/plain": [
       "KNeighborsClassifier()"
      ]
     },
     "execution_count": 21,
     "metadata": {},
     "output_type": "execute_result"
    }
   ],
   "source": [
    "#Fitting K-NN classifier to the training set  \n",
    "from sklearn.neighbors import KNeighborsClassifier  \n",
    "classifier= KNeighborsClassifier(n_neighbors=5 )  \n",
    "classifier.fit(X_train, Y_train)  "
   ]
  },
  {
   "cell_type": "code",
   "execution_count": null,
   "metadata": {
    "colab": {
     "base_uri": "https://localhost:8080/"
    },
    "id": "IppdSgWC40OU",
    "outputId": "b5ab86ae-e662-4f27-9c61-4e9dd0056af6",
    "vscode": {
     "languageId": "python"
    }
   },
   "outputs": [
    {
     "data": {
      "text/plain": [
       "3"
      ]
     },
     "execution_count": 34,
     "metadata": {},
     "output_type": "execute_result"
    }
   ],
   "source": [
    "Y_train.nunique()"
   ]
  },
  {
   "cell_type": "code",
   "execution_count": 22,
   "metadata": {
    "id": "vytd891igo9I",
    "vscode": {
     "languageId": "python"
    }
   },
   "outputs": [],
   "source": [
    "#Predicting the test set result  \n",
    "y_pred_knn= classifier.predict(X_test)"
   ]
  },
  {
   "cell_type": "code",
   "execution_count": 35,
   "metadata": {
    "colab": {
     "base_uri": "https://localhost:8080/"
    },
    "id": "RrHHIq6s3nUK",
    "outputId": "68a2537a-549e-459c-9394-e028242d475d",
    "vscode": {
     "languageId": "python"
    }
   },
   "outputs": [],
   "source": [
    "#Creating the Confusion matrix  \n",
    "from sklearn.metrics import confusion_matrix  \n",
    "cm= confusion_matrix(Y_test, y_pred_knn)"
   ]
  },
  {
   "cell_type": "code",
   "execution_count": 41,
   "metadata": {
    "vscode": {
     "languageId": "python"
    }
   },
   "outputs": [],
   "source": [
    "import matplotlib.pyplot as plt\n",
    "import seaborn as sns\n",
    "from sklearn.metrics import classification_report"
   ]
  },
  {
   "cell_type": "code",
   "execution_count": 36,
   "metadata": {
    "vscode": {
     "languageId": "python"
    }
   },
   "outputs": [
    {
     "data": {
      "image/png": "[encoded data removed]",
      "text/plain": [
       "<Figure size 400x400 with 1 Axes>"
      ]
     },
     "metadata": {},
     "output_type": "display_data"
    }
   ],
   "source": [
    "plt.figure(figsize=(4,4))\n",
    "sns.heatmap(cm, annot=True, fmt='0.3f', linewidth=0.5, square=True, cbar = False)\n",
    "plt.ylabel('Actual Values')\n",
    "plt.xlabel('Predicted Values')\n",
    "plt.show()\n"
   ]
  },
  {
   "cell_type": "code",
   "execution_count": 43,
   "metadata": {
    "vscode": {
     "languageId": "python"
    }
   },
   "outputs": [
    {
     "name": "stdout",
     "output_type": "stream",
     "text": [
      "              precision    recall  f1-score   support\n",
      "\n",
      "           1       0.30      0.28      0.29        47\n",
      "           2       0.82      0.84      0.83       196\n",
      "           4       0.29      0.22      0.25         9\n",
      "\n",
      "    accuracy                           0.71       252\n",
      "   macro avg       0.47      0.45      0.46       252\n",
      "weighted avg       0.70      0.71      0.71       252\n",
      "\n"
     ]
    }
   ],
   "source": [
    "print(classification_report(Y_test, y_pred_knn))"
   ]
  },
  {
   "cell_type": "code",
   "execution_count": 44,
   "metadata": {
    "colab": {
     "base_uri": "https://localhost:8080/"
    },
    "id": "VwL2p01d5jyS",
    "outputId": "81091a1f-a47d-4ee4-fdb8-503f02efa7b4",
    "vscode": {
     "languageId": "python"
    }
   },
   "outputs": [
    {
     "name": "stdout",
     "output_type": "stream",
     "text": [
      "0.7142857142857143\n"
     ]
    }
   ],
   "source": [
    "accuracy = accuracy_score(Y_test, y_pred_knn)\n",
    "print(accuracy)"
   ]
  },
  {
   "cell_type": "code",
   "execution_count": null,
   "metadata": {
    "colab": {
     "base_uri": "https://localhost:8080/"
    },
    "id": "vnuZJQRG4WYT",
    "outputId": "41ed98fe-45e3-45ce-c89b-f11804a7a233",
    "vscode": {
     "languageId": "python"
    }
   },
   "outputs": [
    {
     "data": {
      "text/plain": [
       "3"
      ]
     },
     "execution_count": 36,
     "metadata": {},
     "output_type": "execute_result"
    }
   ],
   "source": [
    "Y_test.nunique()"
   ]
  },
  {
   "cell_type": "code",
   "execution_count": null,
   "metadata": {
    "colab": {
     "base_uri": "https://localhost:8080/"
    },
    "id": "i7CvhPmLgoiO",
    "outputId": "771c4daf-c140-437b-e144-e464d99f8151",
    "vscode": {
     "languageId": "python"
    }
   },
   "outputs": [
    {
     "name": "stdout",
     "output_type": "stream",
     "text": [
      "0.0010396825396825396\n",
      "0.0002861904761904762\n"
     ]
    }
   ],
   "source": [
    "#predict the interest rates\n",
    "absolute_mean = 0\n",
    "squared_mean = 0\n",
    "\n",
    "for _ in range(1, 11):\n",
    "    model = RandomForestRegressor()\n",
    "    model.fit(X_train, Y_train)\n",
    "    pred = model.predict(X_test)\n",
    "    absolute_mean += mean_absolute_error(Y_test, pred)\n",
    "    squared_mean +=  mean_squared_error(Y_test, pred)\n",
    "\n",
    "print(absolute_mean / 10)\n",
    "print(squared_mean / 10) "
   ]
  },
  {
   "cell_type": "code",
   "execution_count": null,
   "metadata": {
    "colab": {
     "base_uri": "https://localhost:8080/"
    },
    "id": "lVoanLqHv4Cu",
    "outputId": "890f32ab-1f15-48ab-e263-da5708270a9e",
    "vscode": {
     "languageId": "python"
    }
   },
   "outputs": [
    {
     "name": "stdout",
     "output_type": "stream",
     "text": [
      "[[-0.12299534  0.47263078  0.857069   ... -0.50124796  1.46641183\n",
      "  -1.03031551]\n",
      " [-0.01318773  0.47263078 -0.05651895 ... -0.50124796 -0.26404014\n",
      "   1.29171732]\n",
      " [ 0.02913811  0.47263078  1.81633635 ... -0.50124796  1.03379884\n",
      "  -0.44980731]\n",
      " ...\n",
      " [-0.06110378  0.47263078  0.62912881 ... -0.06868697  0.60118585\n",
      "  -1.03031551]\n",
      " [-0.21443514  0.47263078  0.9027484  ...  0.53588658  1.46641183\n",
      "  -1.32056962]\n",
      " [-0.12698835 -2.21362101 -0.7873893  ... -0.50124796  1.46641183\n",
      "   1.58197143]]\n"
     ]
    }
   ],
   "source": [
    "print(X_train)"
   ]
  },
  {
   "cell_type": "code",
   "execution_count": 48,
   "metadata": {
    "colab": {
     "base_uri": "https://localhost:8080/",
     "height": 92
    },
    "id": "kF9ifLO6v4dy",
    "outputId": "7560d0ff-7737-4a70-fc37-811ef0512542",
    "vscode": {
     "languageId": "python"
    }
   },
   "outputs": [
    {
     "data": {
      "text/html": [
       "<style>#sk-container-id-4 {color: black;background-color: white;}#sk-container-id-4 pre{padding: 0;}#sk-container-id-4 div.sk-toggleable {background-color: white;}#sk-container-id-4 label.sk-toggleable__label {cursor: pointer;display: block;width: 100%;margin-bottom: 0;padding: 0.3em;box-sizing: border-box;text-align: center;}#sk-container-id-4 label.sk-toggleable__label-arrow:before {content: \"▸\";float: left;margin-right: 0.25em;color: #696969;}#sk-container-id-4 label.sk-toggleable__label-arrow:hover:before {color: black;}#sk-container-id-4 div.sk-estimator:hover label.sk-toggleable__label-arrow:before {color: black;}#sk-container-id-4 div.sk-toggleable__content {max-height: 0;max-width: 0;overflow: hidden;text-align: left;background-color: #f0f8ff;}#sk-container-id-4 div.sk-toggleable__content pre {margin: 0.2em;color: black;border-radius: 0.25em;background-color: #f0f8ff;}#sk-container-id-4 input.sk-toggleable__control:checked~div.sk-toggleable__content {max-height: 200px;max-width: 100%;overflow: auto;}#sk-container-id-4 input.sk-toggleable__control:checked~label.sk-toggleable__label-arrow:before {content: \"▾\";}#sk-container-id-4 div.sk-estimator input.sk-toggleable__control:checked~label.sk-toggleable__label {background-color: #d4ebff;}#sk-container-id-4 div.sk-label input.sk-toggleable__control:checked~label.sk-toggleable__label {background-color: #d4ebff;}#sk-container-id-4 input.sk-hidden--visually {border: 0;clip: rect(1px 1px 1px 1px);clip: rect(1px, 1px, 1px, 1px);height: 1px;margin: -1px;overflow: hidden;padding: 0;position: absolute;width: 1px;}#sk-container-id-4 div.sk-estimator {font-family: monospace;background-color: #f0f8ff;border: 1px dotted black;border-radius: 0.25em;box-sizing: border-box;margin-bottom: 0.5em;}#sk-container-id-4 div.sk-estimator:hover {background-color: #d4ebff;}#sk-container-id-4 div.sk-parallel-item::after {content: \"\";width: 100%;border-bottom: 1px solid gray;flex-grow: 1;}#sk-container-id-4 div.sk-label:hover label.sk-toggleable__label {background-color: #d4ebff;}#sk-container-id-4 div.sk-serial::before {content: \"\";position: absolute;border-left: 1px solid gray;box-sizing: border-box;top: 0;bottom: 0;left: 50%;z-index: 0;}#sk-container-id-4 div.sk-serial {display: flex;flex-direction: column;align-items: center;background-color: white;padding-right: 0.2em;padding-left: 0.2em;position: relative;}#sk-container-id-4 div.sk-item {position: relative;z-index: 1;}#sk-container-id-4 div.sk-parallel {display: flex;align-items: stretch;justify-content: center;background-color: white;position: relative;}#sk-container-id-4 div.sk-item::before, #sk-container-id-4 div.sk-parallel-item::before {content: \"\";position: absolute;border-left: 1px solid gray;box-sizing: border-box;top: 0;bottom: 0;left: 50%;z-index: -1;}#sk-container-id-4 div.sk-parallel-item {display: flex;flex-direction: column;z-index: 1;position: relative;background-color: white;}#sk-container-id-4 div.sk-parallel-item:first-child::after {align-self: flex-end;width: 50%;}#sk-container-id-4 div.sk-parallel-item:last-child::after {align-self: flex-start;width: 50%;}#sk-container-id-4 div.sk-parallel-item:only-child::after {width: 0;}#sk-container-id-4 div.sk-dashed-wrapped {border: 1px dashed gray;margin: 0 0.4em 0.5em 0.4em;box-sizing: border-box;padding-bottom: 0.4em;background-color: white;}#sk-container-id-4 div.sk-label label {font-family: monospace;font-weight: bold;display: inline-block;line-height: 1.2em;}#sk-container-id-4 div.sk-label-container {text-align: center;}#sk-container-id-4 div.sk-container {/* jupyter's `normalize.less` sets `[hidden] { display: none; }` but bootstrap.min.css set `[hidden] { display: none !important; }` so we also need the `!important` here to be able to override the default hidden behavior on the sphinx rendered scikit-learn.org. See: https://github.com/scikit-learn/scikit-learn/issues/21755 */display: inline-block !important;position: relative;}#sk-container-id-4 div.sk-text-repr-fallback {display: none;}</style><div id=\"sk-container-id-4\" class=\"sk-top-container\"><div class=\"sk-text-repr-fallback\"><pre>RandomForestClassifier(criterion=&#x27;entropy&#x27;, max_depth=44, min_samples_split=11,\n",
       "                       n_estimators=197)</pre><b>In a Jupyter environment, please rerun this cell to show the HTML representation or trust the notebook. <br />On GitHub, the HTML representation is unable to render, please try loading this page with nbviewer.org.</b></div><div class=\"sk-container\" hidden><div class=\"sk-item\"><div class=\"sk-estimator sk-toggleable\"><input class=\"sk-toggleable__control sk-hidden--visually\" id=\"sk-estimator-id-4\" type=\"checkbox\" checked><label for=\"sk-estimator-id-4\" class=\"sk-toggleable__label sk-toggleable__label-arrow\">RandomForestClassifier</label><div class=\"sk-toggleable__content\"><pre>RandomForestClassifier(criterion=&#x27;entropy&#x27;, max_depth=44, min_samples_split=11,\n",
       "                       n_estimators=197)</pre></div></div></div></div></div>"
      ],
      "text/plain": [
       "RandomForestClassifier(criterion='entropy', max_depth=44, min_samples_split=11,\n",
       "                       n_estimators=197)"
      ]
     },
     "execution_count": 48,
     "metadata": {},
     "output_type": "execute_result"
    }
   ],
   "source": [
    "# Train the random forest model\n",
    "rf_classifier = RandomForestClassifier(criterion= 'entropy', max_depth=44, max_features='sqrt', min_samples_leaf=1, min_samples_split=11, n_estimators= 197)\n",
    "rf_classifier.fit(X_train, Y_train)"
   ]
  },
  {
   "cell_type": "code",
   "execution_count": 49,
   "metadata": {
    "colab": {
     "base_uri": "https://localhost:8080/"
    },
    "id": "ntyuEgkf-Z2B",
    "outputId": "1373058c-5ecb-4854-93e4-5294f9099283",
    "vscode": {
     "languageId": "python"
    }
   },
   "outputs": [
    {
     "name": "stdout",
     "output_type": "stream",
     "text": [
      "Accuracy: 100.00%\n",
      "[1. 1. 1.]\n",
      "[1. 1. 1.]\n",
      "[1. 1. 1.]\n"
     ]
    }
   ],
   "source": [
    "# Evaluate the model\n",
    "y_pred = rf_classifier.predict(X_test)\n",
    "accuracy = accuracy_score(Y_test , y_pred)\n",
    "precision,recall,f1, s=precision_recall_fscore_support(Y_test , y_pred)\n",
    "\n",
    "print(\"Accuracy: {:.2f}%\".format(accuracy * 100))\n",
    "print(precision)\n",
    "print(recall)\n",
    "print(f1)"
   ]
  },
  {
   "cell_type": "code",
   "execution_count": 50,
   "metadata": {
    "colab": {
     "base_uri": "https://localhost:8080/"
    },
    "id": "h5C8ytotgHMK",
    "outputId": "31c3f209-cb3b-40f5-c972-27881d5066f7",
    "vscode": {
     "languageId": "python"
    }
   },
   "outputs": [
    {
     "data": {
      "text/plain": [
       "funded_amount                0.101161\n",
       "payments                     0.096184\n",
       "loan balance                 0.094952\n",
       "property value               0.102668\n",
       "BUILDING CLASS CATEGORY      0.816963\n",
       "TAX CLASS AT PRESENT         0.542572\n",
       "BUILDING CLASS AT PRESENT    0.180779\n",
       "LAND SQUARE FEET             0.084873\n",
       "TAX CLASS AT TIME OF SALE    1.000000\n",
       "Name: TAX CLASS AT TIME OF SALE, dtype: float64"
      ]
     },
     "execution_count": 50,
     "metadata": {},
     "output_type": "execute_result"
    }
   ],
   "source": [
    "raw_data.corr()[\"TAX CLASS AT TIME OF SALE\"]"
   ]
  },
  {
   "cell_type": "code",
   "execution_count": null,
   "metadata": {
    "colab": {
     "base_uri": "https://localhost:8080/"
    },
    "id": "7aUKwmVFds7-",
    "outputId": "abd85dbb-14e9-4328-b059-29d3e7aa0262",
    "vscode": {
     "languageId": "python"
    }
   },
   "outputs": [
    {
     "name": "stdout",
     "output_type": "stream",
     "text": [
      "[2 2 2 1 4 2 1 2 2 2 2 2 1 2 2 2 2 1 2 2 2 4 2 1 2 2 1 1 2 2 2 1 2 2 2 2 1\n",
      " 2 2 2 1 1 2 2 2 2 2 2 2 1 1 2 2 1 1 2 2 2 2 2 1 1 2 2 4 2 1 2 2 2 1 2 1 2\n",
      " 2 2 2 2 1 2 1 2 2 2 2 2 2 2 2 2 2 2 2 2 2 2 2 2 1 2 2 2 2 2 2 2 2 2 2 2 2\n",
      " 2 2 2 2 2 2 2 1 2 2 2 2 1 2 2 2 1 2 1 2 2 2 1 2 2 2 2 2 1 2 2 1 2 2 2 2 2\n",
      " 2 1 4 1 1 2 1 2 1 2 2 2 1 2 2 2 2 2 2 2 2 2 1 4 1 2 2 2 2 2 2 2 2 4 2 2 2\n",
      " 2 2 2 2 1 2 2 2 2 2 1 2 2 2 2 2 2 2 2 2 1 2 1 2 2 2 2 2 2 2 2 1 2 2 4 2 2\n",
      " 2 2 2 2 2 2 4 2 2 2 2 2 2 2 1 2 4 2 2 2 1 2 2 1 1 2 2 2 2 2]\n"
     ]
    }
   ],
   "source": [
    "print(y_pred)"
   ]
  },
  {
   "cell_type": "code",
   "execution_count": null,
   "metadata": {
    "colab": {
     "base_uri": "https://localhost:8080/"
    },
    "id": "9m_yFk5Bd0zw",
    "outputId": "166ed1bb-fd02-4dbe-b777-7092faafdd47",
    "vscode": {
     "languageId": "python"
    }
   },
   "outputs": [
    {
     "name": "stdout",
     "output_type": "stream",
     "text": [
      "1601    2\n",
      "482     2\n",
      "203     2\n",
      "49      1\n",
      "1290    4\n",
      "       ..\n",
      "1128    2\n",
      "963     2\n",
      "1383    2\n",
      "416     2\n",
      "170     2\n",
      "Name: TAX CLASS AT TIME OF SALE, Length: 252, dtype: int64\n"
     ]
    }
   ],
   "source": [
    "print(Y_test)"
   ]
  },
  {
   "cell_type": "code",
   "execution_count": 51,
   "metadata": {
    "id": "QMuh1OnMCm9S",
    "vscode": {
     "languageId": "python"
    }
   },
   "outputs": [],
   "source": [
    "from sklearn.metrics import precision_recall_curve"
   ]
  },
  {
   "cell_type": "code",
   "execution_count": 64,
   "metadata": {
    "id": "HiN8S95vB30B",
    "vscode": {
     "languageId": "python"
    }
   },
   "outputs": [],
   "source": [
    "log_prob_test=lg.predict_proba(X_test)[:, 1]\n",
    "log_prob_train=lg.predict_proba(X_train)[:, 1]"
   ]
  },
  {
   "cell_type": "code",
   "execution_count": 65,
   "metadata": {
    "vscode": {
     "languageId": "python"
    }
   },
   "outputs": [],
   "source": [
    "# Convert Y_test and log_prob_test to NumPy arrays\n",
    "Y_test_np = Y_test.values\n",
    "log_prob_test_np = log_prob_test.reshape(-1)\n",
    "\n",
    "# Ensure Y_test_np is a 1D array if it's multiclass\n",
    "if Y_test_np.ndim > 1:\n",
    "    Y_test_np = np.argmax(Y_test_np, axis=1)"
   ]
  },
  {
   "cell_type": "code",
   "execution_count": 66,
   "metadata": {
    "vscode": {
     "languageId": "python"
    }
   },
   "outputs": [
    {
     "ename": "IndexError",
     "evalue": "too many indices for array: array is 1-dimensional, but 2 were indexed",
     "output_type": "error",
     "traceback": [
      "\u001b[0;31m---------------------------------------------------------------------------\u001b[0m",
      "\u001b[0;31mIndexError\u001b[0m                                Traceback (most recent call last)",
      "Cell \u001b[0;32mIn[66], line 14\u001b[0m\n\u001b[1;32m     11\u001b[0m     predictions \u001b[39m=\u001b[39m np\u001b[39m.\u001b[39mwhere(log_prob_test_np \u001b[39m==\u001b[39m i, \u001b[39m1\u001b[39m, \u001b[39m0\u001b[39m)\n\u001b[1;32m     13\u001b[0m     \u001b[39m# Calculate precision and recall for the current class\u001b[39;00m\n\u001b[0;32m---> 14\u001b[0m     precision[i], recall[i], _ \u001b[39m=\u001b[39m precision_recall_curve((Y_test_np \u001b[39m==\u001b[39m i)\u001b[39m.\u001b[39mastype(\u001b[39mint\u001b[39m), log_prob_test[:,i])\n\u001b[1;32m     16\u001b[0m \u001b[39m# Plot precision vs recall curve for each class\u001b[39;00m\n\u001b[1;32m     17\u001b[0m plt\u001b[39m.\u001b[39mfigure(figsize\u001b[39m=\u001b[39m(\u001b[39m8\u001b[39m, \u001b[39m6\u001b[39m))\n",
      "\u001b[0;31mIndexError\u001b[0m: too many indices for array: array is 1-dimensional, but 2 were indexed"
     ]
    }
   ],
   "source": [
    "# Initialize precision and recall dictionaries\n",
    "precision = {}\n",
    "recall = {}\n",
    "\n",
    "# Iterate over unique classes in Y_test_np\n",
    "for i in range(0,3):\n",
    "    # Create a binary target for the current class\n",
    "    target = np.where(Y_test_np == i, 1, 0)\n",
    "\n",
    "    # Create binary predictions for the current class\n",
    "    predictions = np.where(log_prob_test_np == i, 1, 0)\n",
    "    \n",
    "    # Calculate precision and recall for the current class\n",
    "    precision[i], recall[i], _ = precision_recall_curve((Y_test_np == i).astype(int), log_prob_test[:,i])\n",
    "\n",
    "# Plot precision vs recall curve for each class\n",
    "plt.figure(figsize=(8, 6))\n",
    "\n",
    "for i in range(0,3):\n",
    "    plt.plot(recall[i], precision[i], label=f\"Class {i}\")\n",
    "\n",
    "plt.xlabel('Recall')\n",
    "plt.ylabel('Precision')\n",
    "plt.title('Precision-Recall Curve for Multiclass Classification')\n",
    "plt.legend()\n",
    "plt.grid(True)\n",
    "plt.show()"
   ]
  },
  {
   "cell_type": "code",
   "execution_count": 67,
   "metadata": {
    "colab": {
     "base_uri": "https://localhost:8080/",
     "height": 472
    },
    "id": "PSJTHpaP-Zg0",
    "outputId": "71d5076e-7404-4e12-f679-fa88d6d813f2",
    "vscode": {
     "languageId": "python"
    }
   },
   "outputs": [
    {
     "data": {
      "image/png": "[encoded data removed]",
      "text/plain": [
       "<Figure size 640x480 with 1 Axes>"
      ]
     },
     "metadata": {},
     "output_type": "display_data"
    }
   ],
   "source": [
    "import matplotlib.pyplot as plt\n",
    "\n",
    "# Assuming y_pred and y_actual contain the predicted and actual values respectively\n",
    "\n",
    "# Create a figure and axis object\n",
    "fig, ax = plt.subplots()\n",
    "\n",
    "# Plot the predicted values as a line plot\n",
    "ax.plot(y_pred, label='Predicted')\n",
    "\n",
    "# Plot the actual values as a scatter plot\n",
    "ax.scatter(range(len(Y_test)), Y_test, label='Actual', color='red')\n",
    "\n",
    "# Set labels and title\n",
    "ax.set_xlabel('Data Points')\n",
    "ax.set_ylabel('Values')\n",
    "ax.set_title('Predicted vs Actual Values')\n",
    "\n",
    "# Add a legend\n",
    "ax.legend()\n",
    "\n",
    "# Show the plot\n",
    "plt.show()"
   ]
  },
  {
   "cell_type": "code",
   "execution_count": null,
   "metadata": {
    "id": "3dr79Khe9Dcu",
    "vscode": {
     "languageId": "python"
    }
   },
   "outputs": [],
   "source": []
  }
 ],
 "metadata": {
  "colab": {
   "provenance": []
  },
  "kernelspec": {
   "display_name": "Python 3 (ipykernel)",
   "language": "python",
   "name": "python3"
  }
 },
 "nbformat": 4,
 "nbformat_minor": 4
}
